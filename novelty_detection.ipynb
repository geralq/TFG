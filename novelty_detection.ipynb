{
 "cells": [
  {
   "cell_type": "code",
   "execution_count": 1,
   "id": "59a68056",
   "metadata": {},
   "outputs": [],
   "source": [
    "import os, random\n",
    "from pathlib import Path\n",
    "from collections import defaultdict\n",
    "\n",
    "import numpy as np\n",
    "import pandas as pd\n",
    "import torch\n",
    "from torch.nn.utils.rnn import pad_sequence\n",
    "from torch.utils.data import DataLoader\n",
    "\n",
    "from sklearn.svm import OneClassSVM\n",
    "from sklearn.preprocessing import StandardScaler\n",
    "from sklearn.metrics import (\n",
    "    roc_curve, roc_auc_score, precision_recall_curve, auc\n",
    ")\n",
    "\n",
    "from datalaoader.csv_sequence_dataset import CSVSequenceDataset\n",
    "from models.LSTM.BiLSTM_LSE           import LSE_Bidirectional_LSTM\n",
    "from models.LSTM_ENCODER.Encoder_LSE  import LSE_Encoder\n",
    "\n",
    "import matplotlib.pyplot as plt\n",
    "\n",
    "def set_seeds(seed=0):\n",
    "    random.seed(seed)\n",
    "    np.random.seed(seed)\n",
    "    torch.manual_seed(seed)\n",
    "    torch.cuda.manual_seed_all(seed)\n",
    "\n",
    "set_seeds(42)  \n",
    "device = torch.device('cuda' if torch.cuda.is_available() else 'cpu')\n"
   ]
  },
  {
   "cell_type": "code",
   "execution_count": 2,
   "id": "c6772dc8",
   "metadata": {},
   "outputs": [],
   "source": [
    "BASE_DIR   = Path('/home/gerardo')\n",
    "BATCH_SIZE = 4\n",
    "DROP_COLS  = ['frame']\n",
    "\n",
    "CKPT = BASE_DIR / 'LSE_HEALTH/LSE_TFG/models/LSTM/BiLSTM-PADDED-NORMALICED-WEIGTHED-FOCAL-LOSS-GAMMA-3-79.pth'\n",
    "\n",
    "CSV_TRAIN = BASE_DIR / 'LSE_HEALTH/LSE_TFG/train_test_val_split/train_weigthed_samples.csv'\n",
    "CVS_VAL   = BASE_DIR / 'LSE_HEALTH/LSE_TFG/train_test_val_split/val_weigthed_samples.csv'\n",
    "CSV_TEST  = BASE_DIR / 'LSE_HEALTH/LSE_TFG/train_test_val_split/test_weigthed_samples.csv'\n",
    "NOVELTY_DIR = BASE_DIR / 'NoveltyDetectionProcessed'\n",
    "\n",
    "FEATURES_DIR = BASE_DIR / 'FEATURES_POSE_DATASET'"
   ]
  },
  {
   "cell_type": "code",
   "execution_count": 3,
   "id": "e983bd40",
   "metadata": {},
   "outputs": [],
   "source": [
    "# CARGA DE DATOS\n",
    "def load_paths(csv_file):\n",
    "    return pd.read_csv(csv_file).iloc[:, 0].dropna().tolist()\n",
    "\n",
    "def group_by_video(paths):\n",
    "    groups = defaultdict(list)\n",
    "    for p in paths:\n",
    "        key = \"_\".join(Path(p).stem.split(\"_\")[:-1])\n",
    "        groups[key].append(p)\n",
    "    return list(groups.values())\n",
    "\n",
    "def stratified_split(groups, ratio=0.1):\n",
    "    random.shuffle(groups)\n",
    "    n_train = int(len(groups) * ratio)\n",
    "    return groups[:n_train], groups[n_train:]\n",
    "\n",
    "def collate_fn(batch):\n",
    "    seqs, labels, lengths = zip(*batch)\n",
    "    seqs_padded = pad_sequence(seqs, batch_first=True, padding_value=0)\n",
    "    labels  = torch.tensor(labels)\n",
    "    lengths = torch.tensor(lengths)\n",
    "    lengths, idx = lengths.sort(descending=True)\n",
    "    return seqs_padded[idx], labels[idx], lengths\n",
    "\n",
    "def build_loader(root_dir, paths, shuffle=False):\n",
    "    ds = CSVSequenceDataset(\n",
    "        root_dir=root_dir, file_list=paths,\n",
    "        drop_columns=DROP_COLS\n",
    "    )\n",
    "    loader = DataLoader(ds, batch_size=BATCH_SIZE,\n",
    "                        shuffle=shuffle, collate_fn=collate_fn)\n",
    "    return loader, ds\n"
   ]
  },
  {
   "cell_type": "code",
   "execution_count": 4,
   "id": "91466f2f",
   "metadata": {},
   "outputs": [],
   "source": [
    "train_paths = load_paths(CSV_TRAIN)\n",
    "test_paths  = load_paths(CSV_TEST)\n",
    "val_paths    = load_paths(CVS_VAL)\n",
    "\n",
    "ood_paths = [\n",
    "    f\"{c}/{f}\" for c in os.listdir(NOVELTY_DIR)\n",
    "    if (NOVELTY_DIR / c).is_dir()\n",
    "    for f in os.listdir(NOVELTY_DIR / c) if f.endswith('.csv')\n",
    "]"
   ]
  },
  {
   "cell_type": "code",
   "execution_count": 5,
   "id": "6f2b83e8",
   "metadata": {},
   "outputs": [],
   "source": [
    "train_loader, train_ds = build_loader(FEATURES_DIR, train_paths, shuffle=True)\n",
    "val_loader,   _        = build_loader(FEATURES_DIR, val_paths)\n",
    "test_loader,  _        = build_loader(FEATURES_DIR, test_paths)\n",
    "ood_loader,   _        = build_loader(NOVELTY_DIR,  ood_paths)"
   ]
  },
  {
   "cell_type": "code",
   "execution_count": 6,
   "id": "49782c49",
   "metadata": {},
   "outputs": [
    {
     "data": {
      "text/plain": [
       "LSE_Encoder(\n",
       "  (lstm): LSTM(37, 12, num_layers=2, batch_first=True, dropout=0.5, bidirectional=True)\n",
       "  (dropout): Dropout(p=0.5, inplace=False)\n",
       ")"
      ]
     },
     "execution_count": 6,
     "metadata": {},
     "output_type": "execute_result"
    }
   ],
   "source": [
    "sample_seq, _, _ = train_ds[0]\n",
    "in_size  = sample_seq.shape[1]\n",
    "hid_size = in_size // 3\n",
    "n_layers = 2\n",
    "\n",
    "full_model = LSE_Bidirectional_LSTM(\n",
    "    in_size, hid_size, n_layers,\n",
    "    num_classes=len(train_ds.class_to_idx),\n",
    "    dropout=0.5, bidirectional=True\n",
    ").to(device)\n",
    "full_model.load_state_dict(torch.load(CKPT, map_location=device))\n",
    "full_model.eval()\n",
    "\n",
    "encoder = LSE_Encoder(in_size, hid_size, n_layers).to(device)\n",
    "encoder.load_state_dict({k: v for k, v in full_model.state_dict().items()\n",
    "                         if 'fc' not in k})\n",
    "encoder.eval()\n"
   ]
  },
  {
   "cell_type": "code",
   "execution_count": 7,
   "id": "321748c4",
   "metadata": {},
   "outputs": [],
   "source": [
    "@torch.no_grad()\n",
    "def extract_embeddings(loader):\n",
    "    E, L = [], []\n",
    "    for x, y, lengths in loader:\n",
    "        mask = lengths > 0\n",
    "        if not mask.any(): continue\n",
    "        x, lengths = x[mask].to(device), lengths[mask].to(device)\n",
    "        y = y[mask]\n",
    "        E.append(encoder(x, lengths).cpu().numpy())\n",
    "        L.append(y.numpy())\n",
    "    return np.vstack(E), np.concatenate(L)\n",
    "\n",
    "emb_train, lbl_train = extract_embeddings(train_loader)\n",
    "emb_val,   lbl_val   = extract_embeddings(val_loader)\n",
    "emb_test,  lbl_test  = extract_embeddings(test_loader)\n",
    "emb_ood,   _         = extract_embeddings(ood_loader)\n",
    "\n",
    "# Prototipos de clase\n",
    "protos = []\n",
    "for c in range(len(train_ds.class_to_idx)):\n",
    "    protos.append(emb_train[lbl_train == c].mean(0))\n",
    "protos = np.stack(protos)\n",
    "\n",
    "def cosine(u, v):\n",
    "    return (u @ v)/(np.linalg.norm(u)*np.linalg.norm(v) + 1e-12)\n",
    "\n",
    "def sim_feats(E):\n",
    "    return np.stack([[cosine(e, p) for p in protos] for e in E])\n",
    "\n",
    "from sklearn.preprocessing import normalize\n",
    "\n",
    "# 1) Normaliza embeddings y prototipos\n",
    "E_train_n = normalize(emb_train, axis=1)\n",
    "protos_n   = normalize(protos, axis=1)\n",
    "\n",
    "# 2) Calcula similitudes de golpe\n",
    "sim_feats = lambda E: E @ protos_n.T\n",
    "\n",
    "X_train = sim_feats(normalize(emb_train, axis=1))\n",
    "X_val   = sim_feats(normalize(emb_val,   axis=1))\n",
    "X_test  = sim_feats(normalize(emb_test,  axis=1))\n",
    "X_ood   = sim_feats(normalize(emb_ood,   axis=1))\n",
    "\n",
    "X_train = sim_feats(emb_train)\n",
    "X_val   = sim_feats(emb_val)\n",
    "X_test  = sim_feats(emb_test)\n",
    "X_ood   = sim_feats(emb_ood)\n",
    "\n",
    "# Estandarizador solo con Train-ID\n",
    "scaler = StandardScaler().fit(X_train)\n",
    "Xs_train = scaler.transform(X_train)\n",
    "Xs_val   = scaler.transform(X_val)\n",
    "Xs_test  = scaler.transform(X_test)\n",
    "Xs_ood   = scaler.transform(X_ood)"
   ]
  },
  {
   "cell_type": "code",
   "execution_count": 8,
   "id": "b92cabd0",
   "metadata": {},
   "outputs": [
    {
     "name": "stdout",
     "output_type": "stream",
     "text": [
      "Mejor OC-SVM: ν=0.01, γ=0.001, kernel=rbf, AUC=0.6155\n"
     ]
    }
   ],
   "source": [
    "# ONE-CLASS SVM  (búsqueda ligera de ν y γ)\n",
    "nus = [0.01, 0.05, 0.1, 0.2]\n",
    "gammas = [1e-3, 1e-2, 1e-1, 1]\n",
    "kernel = 'rbf'\n",
    "\n",
    "best_auc = -np.inf\n",
    "best_kernel = None\n",
    "for nu in nus:\n",
    "    for g in gammas:\n",
    "        \n",
    "        svm = OneClassSVM(nu=nu, kernel=kernel,\n",
    "                        gamma=g / Xs_train.shape[1])\n",
    "        svm.fit(Xs_train)\n",
    "\n",
    "        X_mix = np.vstack([Xs_val, Xs_ood[:len(Xs_ood)//3]])\n",
    "        y_mix = np.concatenate([np.ones(len(Xs_val)),\n",
    "                                np.zeros(len(Xs_ood)//3)])\n",
    "        auc_val = roc_auc_score(y_mix, svm.decision_function(X_mix))\n",
    "        if auc_val > best_auc:\n",
    "            best_auc, best_svm, best_cfg, best_kernel = auc_val, svm, (nu, g), kernel\n",
    "\n",
    "print(f\"Mejor OC-SVM: ν={best_cfg[0]}, γ={best_cfg[1]}, kernel={best_kernel}, AUC={best_auc:.4f}\")"
   ]
  },
  {
   "cell_type": "code",
   "execution_count": 9,
   "id": "fff76f2d",
   "metadata": {},
   "outputs": [
    {
     "data": {
      "text/html": [
       "<style type=\"text/css\">\n",
       "</style>\n",
       "<table id=\"T_faed5\">\n",
       "  <thead>\n",
       "    <tr>\n",
       "      <th class=\"blank level0\" >&nbsp;</th>\n",
       "      <th id=\"T_faed5_level0_col0\" class=\"col_heading level0 col0\" >Método</th>\n",
       "      <th id=\"T_faed5_level0_col1\" class=\"col_heading level0 col1\" >AUROC</th>\n",
       "      <th id=\"T_faed5_level0_col2\" class=\"col_heading level0 col2\" >FPR@95%TPR</th>\n",
       "      <th id=\"T_faed5_level0_col3\" class=\"col_heading level0 col3\" >AUPR</th>\n",
       "    </tr>\n",
       "  </thead>\n",
       "  <tbody>\n",
       "    <tr>\n",
       "      <th id=\"T_faed5_level0_row0\" class=\"row_heading level0 row0\" >0</th>\n",
       "      <td id=\"T_faed5_row0_col0\" class=\"data row0 col0\" >OC-SVM</td>\n",
       "      <td id=\"T_faed5_row0_col1\" class=\"data row0 col1\" >0.620</td>\n",
       "      <td id=\"T_faed5_row0_col2\" class=\"data row0 col2\" >0.816</td>\n",
       "      <td id=\"T_faed5_row0_col3\" class=\"data row0 col3\" >0.359</td>\n",
       "    </tr>\n",
       "  </tbody>\n",
       "</table>\n"
      ],
      "text/plain": [
       "<pandas.io.formats.style.Styler at 0x7dd69d26ac90>"
      ]
     },
     "metadata": {},
     "output_type": "display_data"
    }
   ],
   "source": [
    "#MÉTRICAS Y CURVA ROC\n",
    "\n",
    "def fpr_at_tpr(y, s, target_tpr=0.95):\n",
    "    fpr, tpr, _ = roc_curve(y, s)\n",
    "    idx = np.argmin(np.abs(tpr - target_tpr))\n",
    "    return fpr[idx]\n",
    "\n",
    "def aupr(y, s):\n",
    "    pr, rc, _ = precision_recall_curve(y, s, pos_label=1)\n",
    "    return auc(rc, pr)\n",
    "\n",
    "y_true_novel = np.concatenate([\n",
    "    np.zeros(len(Xs_test), dtype=int),\n",
    "    np.ones(len(Xs_ood),  dtype=int)\n",
    "])\n",
    "\n",
    "raw = best_svm.decision_function(np.vstack([Xs_test, Xs_ood]))\n",
    "scores = -raw\n",
    "\n",
    "auroc_novel   = roc_auc_score(y_true_novel, scores)\n",
    "fpr95_novel   = fpr_at_tpr(y_true_novel, scores, 0.95)\n",
    "aupr_novel    = aupr(y_true_novel, scores)\n",
    "\n",
    "res = pd.DataFrame({\n",
    "    'Método':       ['OC-SVM'],\n",
    "    'AUROC':        [auroc_novel],\n",
    "    'FPR@95%TPR':   [fpr95_novel],\n",
    "    'AUPR': [aupr_novel]\n",
    "})\n",
    "\n",
    "num_cols = res.select_dtypes('number').columns\n",
    "\n",
    "display(res.style.format('{:.3f}', subset=num_cols))\n"
   ]
  },
  {
   "cell_type": "code",
   "execution_count": 10,
   "id": "63a4a63c",
   "metadata": {},
   "outputs": [
    {
     "data": {
      "image/png": "[encoded data removed]",
      "text/plain": [
       "<Figure size 600x600 with 1 Axes>"
      ]
     },
     "metadata": {},
     "output_type": "display_data"
    }
   ],
   "source": [
    "#PLOT ROC\n",
    "fpr, tpr, _ = roc_curve(y_true_novel, scores)\n",
    "\n",
    "plt.figure(figsize=(6,6))\n",
    "plt.plot(fpr, tpr, linewidth=2, label=f\"AUC={auroc_novel:.3f}\")\n",
    "plt.plot([0,1],[0,1], '--', linewidth=1)\n",
    "plt.xlabel('Tasa de Falsos Positivos (FPR)', fontsize=12)\n",
    "plt.ylabel('Tasa de Verdaderos Positivos (TPR)', fontsize=12)\n",
    "plt.title('Curva ROC – Detección de Novedad', fontsize=14)\n",
    "plt.legend(loc='lower right', fontsize=10)\n",
    "plt.axis('square')\n",
    "plt.grid(True, linestyle='--', alpha=0.7)\n",
    "plt.tight_layout()\n",
    "plt.show()"
   ]
  }
 ],
 "metadata": {
  "kernelspec": {
   "display_name": "LSE_ENV",
   "language": "python",
   "name": "python3"
  },
  "language_info": {
   "codemirror_mode": {
    "name": "ipython",
    "version": 3
   },
   "file_extension": ".py",
   "mimetype": "text/x-python",
   "name": "python",
   "nbconvert_exporter": "python",
   "pygments_lexer": "ipython3",
   "version": "3.11.11"
  }
 },
 "nbformat": 4,
 "nbformat_minor": 5
}
